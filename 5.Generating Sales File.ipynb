{
 "cells": [
  {
   "cell_type": "markdown",
   "id": "63736655-c3f0-42d5-919b-afdacb3f570b",
   "metadata": {},
   "source": [
    "# Getting Sales File"
   ]
  },
  {
   "cell_type": "code",
   "execution_count": 2,
   "id": "ee9bf90f-fb8f-4b53-a48b-1df54c178c65",
   "metadata": {},
   "outputs": [
    {
     "name": "stdout",
     "output_type": "stream",
     "text": [
      "--------------------MENU--------------------\n",
      "\n",
      "1001 : 5 Star | 10 | 235\n",
      "1002 : Bar-One | 20 | 200\n",
      "1003 : Candy | 1 | 290\n",
      "1004 : Chocolate Cake | 300 | 0\n",
      "1005 : Blueberry Cake | 500 | 136\n",
      "--------------------------------------------\n",
      "\n"
     ]
    },
    {
     "name": "stdin",
     "output_type": "stream",
     "text": [
      "Enter your name :  prakash\n",
      "Enter your mail ID :  dp@gmail.com\n",
      "Enter your ph.no. :  841545454\n",
      "Enter the Product ID :  1003\n",
      "Enter the Quantity   :  10\n"
     ]
    },
    {
     "name": "stdout",
     "output_type": "stream",
     "text": [
      "-------------------------------------------\n",
      "\n",
      "                   BILL                 \n",
      "\n",
      "Name                 :  Candy\n",
      "Price                :  1 Rs\n",
      "Quantity             :  10\n",
      "--------------------------------------------\n",
      "\n",
      "Billing Amount       : 10 Rs\n",
      "--------------------------------------------\n",
      "\n",
      " \n",
      "--------------------------------------------\n",
      "  Thanks for your order, Inventory Updated! \n",
      "--------------------------------------------\n"
     ]
    }
   ],
   "source": [
    "## Billing of the Products\n",
    "\n",
    "## Import Json\n",
    "import json\n",
    "## Import Time \n",
    "import time\n",
    "\n",
    "## Saving and loading the updated data in json file\n",
    "fd = open('Records.json','r')\n",
    "js = fd.read()\n",
    "fd.close()\n",
    "\n",
    "## record is Key Value Pair of Each record \n",
    "record = json.loads(js)\n",
    "\n",
    "print(\"--------------------MENU--------------------\\n\")\n",
    "for key in record.keys():\n",
    "    print(key,\":\", record[key]['Name'], \"|\", record[key]['Price'], \"|\", record[key]['Quantity'])\n",
    "print(\"--------------------------------------------\\n\")\n",
    "\n",
    "ui_name = str(input(\"Enter your name : \"))\n",
    "ui_mail = str(input(\"Enter your mail ID : \"))\n",
    "ui_ph   = str(input(\"Enter your ph.no. : \"))\n",
    "ui_pr   = str(input(\"Enter the Product ID : \"))\n",
    "ui_qn   = int(input(\"Enter the Quantity   : \"))\n",
    "\n",
    "## adding the function for stock invetory \n",
    "\n",
    "if(record[ui_pr]['Quantity'] >= ui_qn):\n",
    "\n",
    "    ## Updating the Product\n",
    "    record[ui_pr]['Quantity'] = record[ui_pr]['Quantity'] - ui_qn\n",
    "    print(\"-------------------------------------------\\n\")\n",
    "    print(\"                   BILL                 \\n\")\n",
    "    print(\"Name                 : \"  , record[ui_pr]['Name'])\n",
    "    print(\"Price                : \"  ,record[ui_pr]['Price'],\"Rs\")\n",
    "    print(\"Quantity             : \"  ,ui_qn)\n",
    "    print(\"--------------------------------------------\\n\")\n",
    "    print(\"Billing Amount       :\"  ,record[ui_pr]['Price'] * ui_qn,\"Rs\")\n",
    "    print(\"--------------------------------------------\\n\")\n",
    "\n",
    "    ## For Store the Costumer records\n",
    "    sale = '1'+\", \"+ui_name+\", \"+ui_mail+\", \"+ui_ph+\", \"+ui_pr+\", \"+record[ui_pr]['Name']+\", \"+str(ui_qn)+\", \"+str(record[ui_pr]['Price'])+\", \"+str(ui_qn * record[ui_pr]['Price'])+\", \"+time.ctime()\n",
    "\n",
    "    \n",
    "else:\n",
    "\n",
    "    print(\"Sorry, We're not having more quantity for your purchase.\")\n",
    "    print(\"We're only having\", record[ui_pr]['Quantity'],\"Quantity.\")\n",
    "    print(\"-------------------------------------------\\n\")\n",
    "    ch = str(input(\"Press Y\\y to Purchase: \"))\n",
    "\n",
    "    if(ch == 'Y' or ch == 'y'):\n",
    "\n",
    "        print(\"-------------------------------------------\\n\")\n",
    "        print(\"                   BILL                 \\n\")\n",
    "        print(\"Name                 : \"  , record[ui_pr]['Name'])\n",
    "        print(\"Price                : \"  ,record[ui_pr]['Price'],\"Rs\")\n",
    "        print(\"Quantity             : \"  ,record[ui_pr]['Quantity'])\n",
    "        print(\"--------------------------------------------\\n\")\n",
    "        print(\"Billing Amount       :\"  ,record[ui_pr]['Price'] * record[ui_pr]['Quantity'],\"Rs\")\n",
    "        print(\"--------------------------------------------\\n\")\n",
    "\n",
    "        ## For Store the Costumer records\n",
    "        sale = '1'+\", \"+ui_name+\", \"+ui_mail+\", \"+ui_ph+\", \"+ui_pr+\", \"+record[ui_pr]['Name']+\", \"+str(record[ui_pr]['Quantity'])+\", \"+str(record[ui_pr]['Price'])+\", \"+str(record[ui_pr]['Quantity'] * record[ui_pr]['Price'])+\", \"+time.ctime()\n",
    "\n",
    "        record[ui_pr]['Quantity'] = 0\n",
    "    else:\n",
    "        print(\"Thanks for your Visiting!\")\n",
    "\n",
    "## update the purchase data in json file\n",
    "js = json.dumps(record)\n",
    "\n",
    "## Save the updated data in Json File\n",
    "fd = open(\"Records.json\",'w')\n",
    "fd.write(js)\n",
    "fd.close()\n",
    "\n",
    "print(' ')\n",
    "print('--------------------------------------------')\n",
    "print('  Thanks for your order, Inventory Updated! ')\n",
    "print('--------------------------------------------')"
   ]
  },
  {
   "cell_type": "code",
   "execution_count": 3,
   "id": "a070f373-5e81-46cf-b279-2c4ff9b53b3e",
   "metadata": {},
   "outputs": [
    {
     "data": {
      "text/plain": [
       "'1, prakash, dp@gmail.com, 841545454, 1003, Candy, 10, 1, 10, Mon Oct 14 19:08:20 2024'"
      ]
     },
     "execution_count": 3,
     "metadata": {},
     "output_type": "execute_result"
    }
   ],
   "source": [
    "sale"
   ]
  },
  {
   "cell_type": "code",
   "execution_count": 4,
   "id": "5aedec88-f48a-40af-8801-adfb98d46c76",
   "metadata": {},
   "outputs": [
    {
     "data": {
      "text/plain": [
       "{'1001': {'Name': '5 Star', 'Price': 10, 'Quantity': 235},\n",
       " '1002': {'Name': 'Bar-One', 'Price': 20, 'Quantity': 200},\n",
       " '1003': {'Name': 'Candy', 'Price': 1, 'Quantity': 280},\n",
       " '1004': {'Name': 'Chocolate Cake', 'Price': 300, 'Quantity': 0},\n",
       " '1005': {'Name': 'Blueberry Cake', 'Price': 500, 'Quantity': 136}}"
      ]
     },
     "execution_count": 4,
     "metadata": {},
     "output_type": "execute_result"
    }
   ],
   "source": [
    "record"
   ]
  },
  {
   "cell_type": "code",
   "execution_count": null,
   "id": "7a0f3307-c692-44a7-b922-f911363747f6",
   "metadata": {},
   "outputs": [],
   "source": []
  }
 ],
 "metadata": {
  "kernelspec": {
   "display_name": "Python 3 (ipykernel)",
   "language": "python",
   "name": "python3"
  },
  "language_info": {
   "codemirror_mode": {
    "name": "ipython",
    "version": 3
   },
   "file_extension": ".py",
   "mimetype": "text/x-python",
   "name": "python",
   "nbconvert_exporter": "python",
   "pygments_lexer": "ipython3",
   "version": "3.10.7"
  }
 },
 "nbformat": 4,
 "nbformat_minor": 5
}
