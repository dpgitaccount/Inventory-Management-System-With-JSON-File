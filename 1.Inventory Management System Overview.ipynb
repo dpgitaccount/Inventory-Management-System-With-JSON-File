{
 "cells": [
  {
   "cell_type": "markdown",
   "id": "90275cf0-5134-4e6d-9390-3450831dfbfe",
   "metadata": {},
   "source": [
    "# 1.Inventory Mangaement System"
   ]
  },
  {
   "cell_type": "code",
   "execution_count": 32,
   "id": "11c9b566-023d-4f7b-a702-c739ac99f4f1",
   "metadata": {},
   "outputs": [],
   "source": [
    "record = {1001 : {'Name' : \"5 Star\"           , 'Price'  : 10, 'Quantity' : 250},\n",
    "          1002 : {'Name' : \"Bar-One\"          , 'Price'  : 20, 'Quantity' : 210}, \n",
    "          1003 : {'Name' : \"Candy\"            , 'Price'  : 1, 'Quantity'  : 400}, \n",
    "          1004 : {'Name' : \"Chocolate Cake\"   , 'Price'  : 300, 'Quantity' : 30},\n",
    "          1005 : {'Name' : \"Blueberry Cake\"   , 'Price'  : 500, 'Quantity' : 150},\n",
    "         }"
   ]
  },
  {
   "cell_type": "code",
   "execution_count": 33,
   "id": "4f02a1ce-4149-4f02-8e6c-8310d47bcf9d",
   "metadata": {},
   "outputs": [
    {
     "data": {
      "text/plain": [
       "{1001: {'Name': '5 Star', 'Price': 10, 'Quantity': 250},\n",
       " 1002: {'Name': 'Bar-One', 'Price': 20, 'Quantity': 210},\n",
       " 1003: {'Name': 'Candy', 'Price': 1, 'Quantity': 400},\n",
       " 1004: {'Name': 'Chocolate Cake', 'Price': 300, 'Quantity': 30},\n",
       " 1005: {'Name': 'Blueberry Cake', 'Price': 500, 'Quantity': 150}}"
      ]
     },
     "execution_count": 33,
     "metadata": {},
     "output_type": "execute_result"
    }
   ],
   "source": [
    "record"
   ]
  },
  {
   "cell_type": "code",
   "execution_count": null,
   "id": "4bc11b6c-8377-4738-a9f6-5eb05823f339",
   "metadata": {},
   "outputs": [],
   "source": []
  },
  {
   "cell_type": "code",
   "execution_count": null,
   "id": "02610af0-4942-4c3e-ad20-8141dd489349",
   "metadata": {},
   "outputs": [],
   "source": []
  },
  {
   "cell_type": "markdown",
   "id": "19695516-4e26-4731-a47d-d97e7b5503e8",
   "metadata": {},
   "source": [
    "# 2.Generating Bill"
   ]
  },
  {
   "cell_type": "code",
   "execution_count": 54,
   "id": "83511753-eba2-4451-bc06-ba4f7edb188c",
   "metadata": {},
   "outputs": [
    {
     "name": "stdout",
     "output_type": "stream",
     "text": [
      "--------------------MENU--------------------\n",
      "\n",
      "1001 : 5 Star | 10 | 250\n",
      "1002 : Bar-One | 20 | 210\n",
      "1003 : Candy | 1 | 400\n",
      "1004 : Chocolate Cake | 300 | 30\n",
      "1005 : Blueberry Cake | 500 | 150\n",
      "--------------------------------------------\n",
      "\n"
     ]
    },
    {
     "name": "stdin",
     "output_type": "stream",
     "text": [
      "Enter the Product ID :  1004\n",
      "Enter the Quantity   :  100\n"
     ]
    },
    {
     "name": "stdout",
     "output_type": "stream",
     "text": [
      "-------------------------------------------\n",
      "\n",
      "                   BILL                 \n",
      "\n",
      "Name                 :  Chocolate Cake\n",
      "Price                :  300 Rs\n",
      "Quantity             :  100\n",
      "--------------------------------------------\n",
      "\n",
      "Billing Amount       : 30000 Rs\n",
      "--------------------------------------------\n",
      "\n"
     ]
    }
   ],
   "source": [
    "## Billing of the Products\n",
    "print(\"--------------------MENU--------------------\\n\")\n",
    "for key in record.keys():\n",
    "    print(key,\":\", record[key]['Name'], \"|\", record[key]['Price'], \"|\", record[key]['Quantity'])\n",
    "print(\"--------------------------------------------\\n\")\n",
    "\n",
    "ui_pr = int(input(\"Enter the Product ID : \"))\n",
    "ui_qn = int(input(\"Enter the Quantity   : \"))\n",
    "print(\"-------------------------------------------\\n\")\n",
    "print(\"                   BILL                 \\n\")\n",
    "\n",
    "print(\"Name                 : \"  , record[ui_pr]['Name'])\n",
    "print(\"Price                : \"  ,record[ui_pr]['Price'],\"Rs\")\n",
    "print(\"Quantity             : \"  ,ui_qn)\n",
    "\n",
    "print(\"--------------------------------------------\\n\")\n",
    "print(\"Billing Amount       :\"  ,record[ui_pr]['Price'] * ui_qn,\"Rs\")\n",
    "print(\"--------------------------------------------\\n\")\n"
   ]
  },
  {
   "cell_type": "markdown",
   "id": "306428ec-2a71-4e43-9670-82fec44fb758",
   "metadata": {},
   "source": []
  },
  {
   "cell_type": "code",
   "execution_count": null,
   "id": "f3a4cb33-6d19-4514-bcbb-257eaf48014b",
   "metadata": {},
   "outputs": [],
   "source": []
  }
 ],
 "metadata": {
  "kernelspec": {
   "display_name": "Python 3 (ipykernel)",
   "language": "python",
   "name": "python3"
  },
  "language_info": {
   "codemirror_mode": {
    "name": "ipython",
    "version": 3
   },
   "file_extension": ".py",
   "mimetype": "text/x-python",
   "name": "python",
   "nbconvert_exporter": "python",
   "pygments_lexer": "ipython3",
   "version": "3.10.7"
  }
 },
 "nbformat": 4,
 "nbformat_minor": 5
}
