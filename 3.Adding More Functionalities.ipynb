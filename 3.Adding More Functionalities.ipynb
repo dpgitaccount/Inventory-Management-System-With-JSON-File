{
 "cells": [
  {
   "cell_type": "markdown",
   "id": "6d97083a-7387-48a8-a65d-1bdae05d27bb",
   "metadata": {},
   "source": [
    "# Adding more Functionalities"
   ]
  },
  {
   "cell_type": "code",
   "execution_count": 6,
   "id": "698c3355-0e29-4c6f-a3e1-3ef4d21b75f4",
   "metadata": {},
   "outputs": [
    {
     "name": "stdout",
     "output_type": "stream",
     "text": [
      "--------------------MENU--------------------\n",
      "\n",
      "1001 : 5 Star | 10 | 235\n",
      "1002 : Bar-One | 20 | 200\n",
      "1003 : Candy | 1 | 290\n",
      "1004 : Chocolate Cake | 300 | 0\n",
      "1005 : Blueberry Cake | 500 | 148\n",
      "--------------------------------------------\n",
      "\n"
     ]
    },
    {
     "name": "stdin",
     "output_type": "stream",
     "text": [
      "Enter the Product ID :  1004\n",
      "Enter the Quantity   :  1\n"
     ]
    },
    {
     "name": "stdout",
     "output_type": "stream",
     "text": [
      "Sorry, We're not having more quantity for your purchase.\n",
      "We're only having 0 Quantity.\n",
      "-------------------------------------------\n",
      "\n"
     ]
    },
    {
     "name": "stdin",
     "output_type": "stream",
     "text": [
      "Press Y\\y to Purchase:  n\n"
     ]
    },
    {
     "name": "stdout",
     "output_type": "stream",
     "text": [
      "Thanks for your Visiting!\n",
      " \n",
      "--------------------------------------------\n",
      "  Thanks for your order, Inventory Updated! \n",
      "--------------------------------------------\n"
     ]
    }
   ],
   "source": [
    "## Billing of the Products\n",
    "\n",
    "## Import Json\n",
    "import json\n",
    "\n",
    "## Saving and loading the updated data in json file\n",
    "fd = open('Records.json','r')\n",
    "js = fd.read()\n",
    "fd.close()\n",
    "\n",
    "## record is Key Value Pair of Each record \n",
    "record = json.loads(js)\n",
    "\n",
    "print(\"--------------------MENU--------------------\\n\")\n",
    "for key in record.keys():\n",
    "    print(key,\":\", record[key]['Name'], \"|\", record[key]['Price'], \"|\", record[key]['Quantity'])\n",
    "print(\"--------------------------------------------\\n\")\n",
    "\n",
    "ui_pr = str(input(\"Enter the Product ID : \"))\n",
    "ui_qn = int(input(\"Enter the Quantity   : \"))\n",
    "\n",
    "## adding the function for stock invetory \n",
    "\n",
    "if(record[ui_pr]['Quantity'] >= ui_qn):\n",
    "\n",
    "    ## Updating the Product\n",
    "    record[ui_pr]['Quantity'] = record[ui_pr]['Quantity'] - ui_qn\n",
    "    print(\"-------------------------------------------\\n\")\n",
    "    print(\"                   BILL                 \\n\")\n",
    "    print(\"Name                 : \"  , record[ui_pr]['Name'])\n",
    "    print(\"Price                : \"  ,record[ui_pr]['Price'],\"Rs\")\n",
    "    print(\"Quantity             : \"  ,ui_qn)\n",
    "    print(\"--------------------------------------------\\n\")\n",
    "    print(\"Billing Amount       :\"  ,record[ui_pr]['Price'] * ui_qn,\"Rs\")\n",
    "    print(\"--------------------------------------------\\n\")\n",
    "    \n",
    "else:\n",
    "\n",
    "    print(\"Sorry, We're not having more quantity for your purchase.\")\n",
    "    print(\"We're only having\", record[ui_pr]['Quantity'],\"Quantity.\")\n",
    "    print(\"-------------------------------------------\\n\")\n",
    "    ch = str(input(\"Press Y\\y to Purchase: \"))\n",
    "\n",
    "    if(ch == 'Y' or ch == 'y'):\n",
    "        print(\"-------------------------------------------\\n\")\n",
    "        print(\"                   BILL                 \\n\")\n",
    "        print(\"Name                 : \"  , record[ui_pr]['Name'])\n",
    "        print(\"Price                : \"  ,record[ui_pr]['Price'],\"Rs\")\n",
    "        print(\"Quantity             : \"  ,record[ui_pr]['Quantity'])\n",
    "        print(\"--------------------------------------------\\n\")\n",
    "        print(\"Billing Amount       :\"  ,record[ui_pr]['Price'] * record[ui_pr]['Quantity'],\"Rs\")\n",
    "        print(\"--------------------------------------------\\n\")\n",
    "    \n",
    "        record[ui_pr]['Quantity'] = 0\n",
    "    else:\n",
    "        print(\"Thanks for your Visiting!\")\n",
    "\n",
    "\n",
    "## update the purchase data in json file\n",
    "js = json.dumps(record)\n",
    "\n",
    "## Save the updated data in Json File\n",
    "fd = open(\"Records.json\",'w')\n",
    "fd.write(js)\n",
    "fd.close()\n",
    "\n",
    "print(' ')\n",
    "print('--------------------------------------------')\n",
    "print('  Thanks for your order, Inventory Updated! ')\n",
    "print('--------------------------------------------')\n"
   ]
  },
  {
   "cell_type": "code",
   "execution_count": 7,
   "id": "fadcbe70-0252-4f56-b65d-19e807e64ea3",
   "metadata": {},
   "outputs": [
    {
     "data": {
      "text/plain": [
       "{'1001': {'Name': '5 Star', 'Price': 10, 'Quantity': 235},\n",
       " '1002': {'Name': 'Bar-One', 'Price': 20, 'Quantity': 200},\n",
       " '1003': {'Name': 'Candy', 'Price': 1, 'Quantity': 290},\n",
       " '1004': {'Name': 'Chocolate Cake', 'Price': 300, 'Quantity': 0},\n",
       " '1005': {'Name': 'Blueberry Cake', 'Price': 500, 'Quantity': 148}}"
      ]
     },
     "execution_count": 7,
     "metadata": {},
     "output_type": "execute_result"
    }
   ],
   "source": [
    "record"
   ]
  },
  {
   "cell_type": "code",
   "execution_count": null,
   "id": "167e02cb-90cb-4127-8ad7-eed2610c1bc3",
   "metadata": {},
   "outputs": [],
   "source": []
  }
 ],
 "metadata": {
  "kernelspec": {
   "display_name": "Python 3 (ipykernel)",
   "language": "python",
   "name": "python3"
  },
  "language_info": {
   "codemirror_mode": {
    "name": "ipython",
    "version": 3
   },
   "file_extension": ".py",
   "mimetype": "text/x-python",
   "name": "python",
   "nbconvert_exporter": "python",
   "pygments_lexer": "ipython3",
   "version": "3.10.7"
  }
 },
 "nbformat": 4,
 "nbformat_minor": 5
}
