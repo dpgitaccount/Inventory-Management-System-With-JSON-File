{
 "cells": [
  {
   "cell_type": "markdown",
   "id": "63736655-c3f0-42d5-919b-afdacb3f570b",
   "metadata": {},
   "source": [
    "# Getting Sales File"
   ]
  },
  {
   "cell_type": "code",
   "execution_count": 22,
   "id": "ee9bf90f-fb8f-4b53-a48b-1df54c178c65",
   "metadata": {},
   "outputs": [
    {
     "name": "stdout",
     "output_type": "stream",
     "text": [
      "--------------------MENU--------------------\n",
      "\n",
      "1001 : 5 Star | 10 | 233\n",
      "1002 : Bar-One | 20 | 185\n",
      "1003 : Candy | 1 | 280\n",
      "1004 : Chocolate Cake | 300 | 0\n",
      "1005 : Blueberry Cake | 500 | 129\n",
      "--------------------------------------------\n",
      "\n"
     ]
    },
    {
     "name": "stdin",
     "output_type": "stream",
     "text": [
      "Enter your name :  satya\n",
      "Enter your mail ID :  sp@gmial\n",
      "Enter your ph.no. :  4877465163\n",
      "Enter the Product ID :  1001\n",
      "Enter the Quantity   :  10\n"
     ]
    },
    {
     "name": "stdout",
     "output_type": "stream",
     "text": [
      "-------------------------------------------\n",
      "\n",
      "                   BILL                 \n",
      "\n",
      "Name                 :  5 Star\n",
      "Price                :  10 Rs\n",
      "Quantity             :  10\n",
      "--------------------------------------------\n",
      "\n",
      "Billing Amount       : 100 Rs\n",
      "--------------------------------------------\n",
      "\n",
      " \n",
      "--------------------------------------------\n",
      "  Thanks for your order, Inventory Updated! \n",
      "--------------------------------------------\n"
     ]
    }
   ],
   "source": [
    "## Billing of the Products\n",
    "\n",
    "## Importing the libraries\n",
    "import json\n",
    "import time\n",
    "\n",
    "## Initializing vaeiable\n",
    "sale = ''\n",
    "## Loading the inventory Records from json to String\n",
    "fd = open('Records.json','r')\n",
    "js = fd.read()\n",
    "fd.close()\n",
    "\n",
    "## Converting strings records to Json/Dictionaries\n",
    "record = json.loads(js)\n",
    "\n",
    "## Displaying the Menu\n",
    "print(\"--------------------MENU--------------------\\n\")\n",
    "for key in record.keys():\n",
    "    print(key,\":\", record[key]['Name'], \"|\", record[key]['Price'], \"|\", record[key]['Quantity'])\n",
    "print(\"--------------------------------------------\\n\")\n",
    "\n",
    "## Taking input from Users\n",
    "ui_name = str(input(\"Enter your name : \"))\n",
    "ui_mail = str(input(\"Enter your mail ID : \"))\n",
    "ui_ph   = str(input(\"Enter your ph.no. : \"))\n",
    "ui_pr   = str(input(\"Enter the Product ID : \"))\n",
    "ui_qn   = int(input(\"Enter the Quantity   : \"))\n",
    "\n",
    "## If we're having equal or more quantity then user wants\n",
    "if(record[ui_pr]['Quantity'] >= ui_qn):\n",
    "\n",
    "    ## Dispalying Purcahse Detail\n",
    "    print(\"-------------------------------------------\\n\")\n",
    "    print(\"                   BILL                 \\n\")\n",
    "    print(\"Name                 : \"  , record[ui_pr]['Name'])\n",
    "    print(\"Price                : \"  ,record[ui_pr]['Price'],\"Rs\")\n",
    "    print(\"Quantity             : \"  ,ui_qn)\n",
    "    print(\"--------------------------------------------\\n\")\n",
    "    print(\"Billing Amount       :\"  ,record[ui_pr]['Price'] * ui_qn,\"Rs\")\n",
    "    print(\"--------------------------------------------\\n\")\n",
    "\n",
    "    ## Generating the sales report in csv formate\n",
    "    sale = ui_name+\", \"+ui_mail+\", \"+ui_ph+\", \"+ui_pr+\", \"+record[ui_pr]['Name']+\", \"+str(ui_qn)+\", \"+str(record[ui_pr]['Price'])+\", \"+str(ui_qn * record[ui_pr]['Price'])+\", \"+time.ctime() + '\\n'\n",
    "    \n",
    "    ## Updating the Product Records\n",
    "    record[ui_pr]['Quantity'] = record[ui_pr]['Quantity'] - ui_qn\n",
    "## If we're not having enough quantity \n",
    "else:\n",
    "\n",
    "    ## Displaying Info about the quntity\n",
    "    print(\"-------------------------------------------\\n\")\n",
    "    print(\"Sorry, We're not having more quantity for your purchase.\")\n",
    "    print(\"We're only having\", record[ui_pr]['Quantity'],\"Quantity.\")\n",
    "    print(\"-------------------------------------------\\n\")\n",
    "\n",
    "    ## If user wants to purchase whole quntity\n",
    "    ch = str(input(\"Press Y\\y to Purchase: \"))\n",
    "    \n",
    "    if(ch == 'Y' or ch == 'y'):\n",
    "\n",
    "        ## Dispalying Purcahse Detail\n",
    "        print(\"-------------------------------------------\\n\")\n",
    "        print(\"                   BILL                 \\n\")\n",
    "        print(\"Name                 : \"  , record[ui_pr]['Name'])\n",
    "        print(\"Price                : \"  ,record[ui_pr]['Price'],\"Rs\")\n",
    "        print(\"Quantity             : \"  ,record[ui_pr]['Quantity'])\n",
    "        print(\"--------------------------------------------\\n\")\n",
    "        print(\"Billing Amount       :\"  ,record[ui_pr]['Price'] * record[ui_pr]['Quantity'],\"Rs\")\n",
    "        print(\"--------------------------------------------\\n\")\n",
    "\n",
    "        ## Generating the sales report in csv formate\n",
    "        sale = ui_name+\", \"+ui_mail+\", \"+ui_ph+\", \"+ui_pr+\", \"+record[ui_pr]['Name']+\", \"+str(record[ui_pr]['Quantity'])+\", \"+str(record[ui_pr]['Price'])+\", \"+str(record[ui_pr]['Quantity'] * record[ui_pr]['Price'])+\", \"+time.ctime() + '\\n'\n",
    "\n",
    "        ## Updating the Product Records\n",
    "        record[ui_pr]['Quantity'] = 0\n",
    "\n",
    "    else:\n",
    "        print(\"Thanks for your Visiting!\")\n",
    "\n",
    "## Converting Disctionaries to String\n",
    "js = json.dumps(record)\n",
    "\n",
    "## Save the updated data in Json File\n",
    "fd = open(\"Records.json\",'w')\n",
    "fd.write(js)\n",
    "fd.close()\n",
    "\n",
    "## Saving Records in Sales File\n",
    "fd = open(\"Sales.txt\", 'a')\n",
    "fd.write(sale)\n",
    "fd.close()\n",
    "\n",
    "print(' ')\n",
    "print('--------------------------------------------')\n",
    "print('  Thanks for your order, Inventory Updated! ')\n",
    "print('--------------------------------------------')"
   ]
  },
  {
   "cell_type": "code",
   "execution_count": 4,
   "id": "5aedec88-f48a-40af-8801-adfb98d46c76",
   "metadata": {},
   "outputs": [
    {
     "data": {
      "text/plain": [
       "{'1001': {'Name': '5 Star', 'Price': 10, 'Quantity': 235},\n",
       " '1002': {'Name': 'Bar-One', 'Price': 20, 'Quantity': 200},\n",
       " '1003': {'Name': 'Candy', 'Price': 1, 'Quantity': 280},\n",
       " '1004': {'Name': 'Chocolate Cake', 'Price': 300, 'Quantity': 0},\n",
       " '1005': {'Name': 'Blueberry Cake', 'Price': 500, 'Quantity': 136}}"
      ]
     },
     "execution_count": 4,
     "metadata": {},
     "output_type": "execute_result"
    }
   ],
   "source": [
    "record"
   ]
  },
  {
   "cell_type": "code",
   "execution_count": 14,
   "id": "7a0f3307-c692-44a7-b922-f911363747f6",
   "metadata": {},
   "outputs": [],
   "source": []
  },
  {
   "cell_type": "code",
   "execution_count": null,
   "id": "96f2352c-9dea-4e2e-ad80-ee29d75569a7",
   "metadata": {},
   "outputs": [],
   "source": []
  }
 ],
 "metadata": {
  "kernelspec": {
   "display_name": "Python 3 (ipykernel)",
   "language": "python",
   "name": "python3"
  },
  "language_info": {
   "codemirror_mode": {
    "name": "ipython",
    "version": 3
   },
   "file_extension": ".py",
   "mimetype": "text/x-python",
   "name": "python",
   "nbconvert_exporter": "python",
   "pygments_lexer": "ipython3",
   "version": "3.10.7"
  }
 },
 "nbformat": 4,
 "nbformat_minor": 5
}
