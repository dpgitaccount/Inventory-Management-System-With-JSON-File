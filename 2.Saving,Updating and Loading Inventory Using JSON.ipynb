{
 "cells": [
  {
   "cell_type": "code",
   "execution_count": 30,
   "id": "e716a19f-7872-44e6-9ed1-78a6c08a3cfb",
   "metadata": {},
   "outputs": [
    {
     "name": "stdout",
     "output_type": "stream",
     "text": [
      "--------------------MENU--------------------\n",
      "\n",
      "1001 : 5 Star | 10 | 235\n",
      "1002 : Bar-One | 20 | 200\n",
      "1003 : Candy | 1 | 300\n",
      "1004 : Chocolate Cake | 300 | 20\n",
      "1005 : Blueberry Cake | 500 | 148\n",
      "--------------------------------------------\n",
      "\n"
     ]
    },
    {
     "name": "stdin",
     "output_type": "stream",
     "text": [
      "Enter the Product ID :  1003\n",
      "Enter the Quantity   :  10\n"
     ]
    },
    {
     "name": "stdout",
     "output_type": "stream",
     "text": [
      "-------------------------------------------\n",
      "\n",
      "                   BILL                 \n",
      "\n",
      "Name                 :  Candy\n",
      "Price                :  1 Rs\n",
      "Quantity             :  10\n",
      "--------------------------------------------\n",
      "\n",
      "Billing Amount       : 10 Rs\n",
      "--------------------------------------------\n",
      "\n",
      " \n",
      "--------------------------------------------\n",
      "  Thanks for your order, Inventory Updated! \n",
      "--------------------------------------------\n"
     ]
    }
   ],
   "source": [
    "## Billing of the Products\n",
    "\n",
    "## Import Json\n",
    "import json\n",
    "\n",
    "## Saving and loading the updated data in json file\n",
    "fd = open('Records.json','r')\n",
    "js = fd.read()\n",
    "fd.close()\n",
    "\n",
    "## record is Key Value Pair of Each record \n",
    "record = json.loads(js)\n",
    "\n",
    "print(\"--------------------MENU--------------------\\n\")\n",
    "for key in record.keys():\n",
    "    print(key,\":\", record[key]['Name'], \"|\", record[key]['Price'], \"|\", record[key]['Quantity'])\n",
    "print(\"--------------------------------------------\\n\")\n",
    "\n",
    "ui_pr = str(input(\"Enter the Product ID : \"))\n",
    "ui_qn = int(input(\"Enter the Quantity   : \"))\n",
    "\n",
    "## Updating the Product\n",
    "record[ui_pr]['Quantity'] = record[ui_pr]['Quantity'] - ui_qn\n",
    "\n",
    "print(\"-------------------------------------------\\n\")\n",
    "print(\"                   BILL                 \\n\")\n",
    "\n",
    "print(\"Name                 : \"  , record[ui_pr]['Name'])\n",
    "print(\"Price                : \"  ,record[ui_pr]['Price'],\"Rs\")\n",
    "print(\"Quantity             : \"  ,ui_qn)\n",
    "\n",
    "print(\"--------------------------------------------\\n\")\n",
    "print(\"Billing Amount       :\"  ,record[ui_pr]['Price'] * ui_qn,\"Rs\")\n",
    "print(\"--------------------------------------------\\n\")\n",
    "\n",
    "\n",
    "## update the purchase data in json file\n",
    "js = json.dumps(record)\n",
    "\n",
    "## Save the updated data in Json File\n",
    "fd = open(\"Records.json\",'w')\n",
    "fd.write(js)\n",
    "fd.close()\n",
    "\n",
    "print(' ')\n",
    "print('--------------------------------------------')\n",
    "print('  Thanks for your order, Inventory Updated! ')\n",
    "print('--------------------------------------------')\n"
   ]
  },
  {
   "cell_type": "code",
   "execution_count": 31,
   "id": "49f8b1e1-b95e-4949-8644-984e4a52dbec",
   "metadata": {},
   "outputs": [
    {
     "data": {
      "text/plain": [
       "{'1001': {'Name': '5 Star', 'Price': 10, 'Quantity': 235},\n",
       " '1002': {'Name': 'Bar-One', 'Price': 20, 'Quantity': 200},\n",
       " '1003': {'Name': 'Candy', 'Price': 1, 'Quantity': 290},\n",
       " '1004': {'Name': 'Chocolate Cake', 'Price': 300, 'Quantity': 20},\n",
       " '1005': {'Name': 'Blueberry Cake', 'Price': 500, 'Quantity': 148}}"
      ]
     },
     "execution_count": 31,
     "metadata": {},
     "output_type": "execute_result"
    }
   ],
   "source": [
    "record"
   ]
  },
  {
   "cell_type": "code",
   "execution_count": null,
   "id": "a7345cd7-d466-4753-ae66-3842c8157f6c",
   "metadata": {},
   "outputs": [],
   "source": []
  }
 ],
 "metadata": {
  "kernelspec": {
   "display_name": "Python 3 (ipykernel)",
   "language": "python",
   "name": "python3"
  },
  "language_info": {
   "codemirror_mode": {
    "name": "ipython",
    "version": 3
   },
   "file_extension": ".py",
   "mimetype": "text/x-python",
   "name": "python",
   "nbconvert_exporter": "python",
   "pygments_lexer": "ipython3",
   "version": "3.10.7"
  }
 },
 "nbformat": 4,
 "nbformat_minor": 5
}
